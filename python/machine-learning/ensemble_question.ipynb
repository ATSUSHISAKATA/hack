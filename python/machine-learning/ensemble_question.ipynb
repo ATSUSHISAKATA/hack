{
 "cells": [
  {
   "cell_type": "code",
   "execution_count": 2,
   "metadata": {},
   "outputs": [
    {
     "name": "stdout",
     "output_type": "stream",
     "text": [
      "training the RandomForestClassifier(n_estimators=10, random_state=42)\n",
      "training the ExtraTreesClassifier(n_estimators=10, random_state=42)\n",
      "training the LinearSVC(random_state=42)\n"
     ]
    },
    {
     "name": "stderr",
     "output_type": "stream",
     "text": [
      "C:\\Users\\a.sakata\\anaconda3\\lib\\site-packages\\sklearn\\svm\\_base.py:977: ConvergenceWarning: Liblinear failed to converge, increase the number of iterations.\n",
      "  \"the number of iterations.\", ConvergenceWarning)\n"
     ]
    },
    {
     "name": "stdout",
     "output_type": "stream",
     "text": [
      "[0.9467, 0.9512, 0.8051]\n"
     ]
    },
    {
     "name": "stderr",
     "output_type": "stream",
     "text": [
      "C:\\Users\\a.sakata\\anaconda3\\lib\\site-packages\\sklearn\\svm\\_base.py:977: ConvergenceWarning: Liblinear failed to converge, increase the number of iterations.\n",
      "  \"the number of iterations.\", ConvergenceWarning)\n"
     ]
    },
    {
     "name": "stdout",
     "output_type": "stream",
     "text": [
      "0.9492\n",
      "[0.9467, 0.9512, 0.8051]\n",
      "0.9442\n",
      "0.9625\n",
      "0.9582\n"
     ]
    },
    {
     "data": {
      "text/plain": [
       "[0.9434, 0.9444]"
      ]
     },
     "execution_count": 2,
     "metadata": {},
     "output_type": "execute_result"
    }
   ],
   "source": [
    "#MNISTにアンサンブル学習適応\n",
    "def sort_by_target(mnist):\n",
    "    reorder_train=np.array(sorted([(target, i)for i,target in enumerate(mnist.target[:60000])]))[:,1]\n",
    "    reorder_test=np.array(sorted([(target,i)for i, target in enumerate(mnist.target[60000:])]))[:,1]\n",
    "    mnist.data[:60000] = mnist.data[reorder_train]\n",
    "    mnist.target[:60000]=mnist.target[reorder_train]\n",
    "    mnist.data[60000:]=mnist.data[reorder_test+60000]\n",
    "    mnist.target[60000:]=mnist.target[reorder_test+60000]\n",
    "\n",
    "import numpy as np    \n",
    "                                                                                            \n",
    "from sklearn.datasets import fetch_openml\n",
    "mnist=fetch_openml(\"mnist_784\",version=1,cache=True)\n",
    "mnist.target=mnist.target.astype(np.int8)\n",
    "sort_by_target(mnist)\n",
    "    \n",
    "import numpy as np    \n",
    "    \n",
    "X=mnist[\"data\"]\n",
    "y=mnist[\"target\"]\n",
    "\n",
    "from sklearn.model_selection import train_test_split\n",
    "X_train,X_test,y_train,y_test=train_test_split(X,y,test_size=10000,random_state=42)\n",
    "X_train,X_val,y_train,y_val=train_test_split(X_train,y_train,test_size=10000,random_state=42)  ##mnist データサイズ指定\n",
    "\n",
    "from sklearn.ensemble import RandomForestClassifier, ExtraTreesClassifier##ensenbleでまとめてimport\n",
    "from sklearn.svm import LinearSVC\n",
    "\n",
    "random_forest_clf=RandomForestClassifier(n_estimators=10,random_state=42) \n",
    "Extree_clf=ExtraTreesClassifier(n_estimators=10,random_state=42)\n",
    "svm_clf=LinearSVC(random_state=42,dual = True)\n",
    "\n",
    "\n",
    "estimators=[random_forest_clf,Extree_clf,svm_clf]\n",
    "for estimator in estimators:   \n",
    "    print(\"training the\", estimator)\n",
    "    estimator.fit(X_train,y_train)\n",
    "\n",
    "print([estimator.score(X_val,y_val) for estimator in estimators])   \n",
    "\n",
    "#投票分類\n",
    "from sklearn.ensemble import VotingClassifier\n",
    "named_estimators=[(\"random_forest\",random_forest_clf),\n",
    "                 (\"Extree_clf\",Extree_clf),\n",
    "                 (\"svm_clf\",svm_clf)]\n",
    "\n",
    "voting_clf=VotingClassifier(named_estimators)\n",
    "voting_clf.fit(X_train,y_train)\n",
    "\n",
    "print(voting_clf.score(X_val,y_val))\n",
    "\n",
    "##投票アンサンブルの中の個別の分類器と比較する\n",
    "print([estimator.score(X_val,y_val) for estimator in voting_clf.estimators_])\n",
    "\n",
    "##ここでset_parms でSVMを除いてもトレーニングセットからは消えないの\n",
    "del voting_clf.estimators_[2]\n",
    "\n",
    "print(voting_clf.score(X_val,y_val))\n",
    "\n",
    "voting_clf.voting=\"soft\"   ###属性指定\n",
    "print(voting_clf.score(X_val,y_val))\n",
    "\n",
    "print(voting_clf.score(X_test,y_test))\n",
    "\n",
    "[estimator.score(X_test,y_test) for estimator in voting_clf.estimators_]\n",
    "   \n",
    "      \n",
    "\n"
   ]
  },
  {
   "cell_type": "code",
   "execution_count": 1,
   "metadata": {},
   "outputs": [
    {
     "name": "stdout",
     "output_type": "stream",
     "text": [
      "training the RandomForestClassifier(n_estimators=10, random_state=42)\n",
      "training the ExtraTreesClassifier(n_estimators=10, random_state=42)\n",
      "training the LinearSVC(random_state=42)\n"
     ]
    },
    {
     "name": "stderr",
     "output_type": "stream",
     "text": [
      "C:\\Users\\a.sakata\\anaconda3\\lib\\site-packages\\sklearn\\svm\\_base.py:977: ConvergenceWarning: Liblinear failed to converge, increase the number of iterations.\n",
      "  \"the number of iterations.\", ConvergenceWarning)\n"
     ]
    },
    {
     "name": "stdout",
     "output_type": "stream",
     "text": [
      "[[2. 2. 2.]\n",
      " [7. 7. 7.]\n",
      " [4. 4. 4.]\n",
      " ...\n",
      " [4. 4. 4.]\n",
      " [9. 9. 9.]\n",
      " [4. 4. 4.]]\n",
      "0.9508\n",
      "[7 8 6 ... 9 1 6]\n"
     ]
    },
    {
     "data": {
      "text/plain": [
       "0.9457"
      ]
     },
     "execution_count": 1,
     "metadata": {},
     "output_type": "execute_result"
    }
   ],
   "source": [
    "#スタッキングアンサンブル\n",
    "def sort_by_target(mnist):\n",
    "    reorder_train=np.array(sorted([(target, i)for i,target in enumerate(mnist.target[:60000])]))[:,1]\n",
    "    reorder_test=np.array(sorted([(target,i)for i, target in enumerate(mnist.target[60000:])]))[:,1]\n",
    "    mnist.data[:60000] = mnist.data[reorder_train]\n",
    "    mnist.target[:60000]=mnist.target[reorder_train]\n",
    "    mnist.data[60000:]=mnist.data[reorder_test+60000]\n",
    "    mnist.target[60000:]=mnist.target[reorder_test+60000]\n",
    "\n",
    "import numpy as np    \n",
    "                                                                                            \n",
    "from sklearn.datasets import fetch_openml\n",
    "mnist=fetch_openml(\"mnist_784\",version=1,cache=True)\n",
    "mnist.target=mnist.target.astype(np.int8)\n",
    "sort_by_target(mnist)\n",
    "    \n",
    "import numpy as np    \n",
    "    \n",
    "X=mnist[\"data\"]\n",
    "y=mnist[\"target\"]\n",
    "\n",
    "from sklearn.model_selection import train_test_split\n",
    "X_train,X_test,y_train,y_test=train_test_split(X,y,test_size=10000,random_state=42)\n",
    "X_train,X_val,y_train,y_val=train_test_split(X_train,y_train,test_size=10000,random_state=42) \n",
    "\n",
    "from sklearn.ensemble import RandomForestClassifier, ExtraTreesClassifier##ensenbleでまとめてimport\n",
    "from sklearn.svm import LinearSVC\n",
    "\n",
    "random_forest_clf=RandomForestClassifier(n_estimators=10,random_state=42) \n",
    "Extree_clf=ExtraTreesClassifier(n_estimators=10,random_state=42)\n",
    "svm_clf=LinearSVC(random_state=42)\n",
    "\n",
    "\n",
    "estimators=[random_forest_clf,Extree_clf,svm_clf]\n",
    "for estimator in estimators:   \n",
    "    print(\"training the\", estimator)\n",
    "    estimator.fit(X_train,y_train)\n",
    "\n",
    "X_val_predictions=np.empty((len(X_val),len(estimators)),dtype=np.float32)\n",
    "\n",
    "for index,estimator in enumerate(estimators):\n",
    "    X_val_predictions[:, index]=estimator.predict(X_val)\n",
    "    \n",
    "print(X_val_predictions)\n",
    "\n",
    "rnd_forest_blender=RandomForestClassifier(n_estimators=200,\n",
    "                                         oob_score=True,random_state=42)\n",
    "\n",
    "rnd_forest_blender.fit(X_val_predictions,y_val)\n",
    "\n",
    "print(rnd_forest_blender.oob_score_)\n",
    "\n",
    "X_test_predictions=np.empty((len(X_test),len(estimators)),dtype=np.float32)\n",
    "\n",
    "for index,estimator in enumerate(estimators):\n",
    "    X_test_predictions[:,index]=estimator.predict(X_test)\n",
    "    \n",
    "    \n",
    "y_pred=rnd_forest_blender.predict(X_test_predictions)\n",
    "print(y_pred)\n",
    "\n",
    "from sklearn.metrics import accuracy_score\n",
    "accuracy_score(y_pred,y_test)\n",
    "\n",
    "\n",
    "\n",
    "\n",
    "   \n",
    "      \n"
   ]
  }
 ],
 "metadata": {
  "kernelspec": {
   "display_name": "Python 3",
   "language": "python",
   "name": "python3"
  },
  "language_info": {
   "codemirror_mode": {
    "name": "ipython",
    "version": 3
   },
   "file_extension": ".py",
   "mimetype": "text/x-python",
   "name": "python",
   "nbconvert_exporter": "python",
   "pygments_lexer": "ipython3",
   "version": "3.7.7"
  }
 },
 "nbformat": 4,
 "nbformat_minor": 4
}
