{
 "cells": [
  {
   "cell_type": "code",
   "execution_count": 5,
   "metadata": {},
   "outputs": [
    {
     "data": {
      "text/plain": [
       "DecisionTreeRegressor(max_depth=2)"
      ]
     },
     "execution_count": 5,
     "metadata": {},
     "output_type": "execute_result"
    }
   ],
   "source": [
    "#決定木\n",
    "from sklearn.datasets import load_iris\n",
    "from sklearn.tree import DecisionTreeClassifier\n",
    "\n",
    "iris=load_iris()\n",
    "X=iris.data[:,2:]\n",
    "y=iris.target\n",
    "\n",
    "tree_clf=DecisionTreeClassifier(max_depth=2)\n",
    "tree_clf.fit(X,y)\n",
    "\n",
    "#可視化\n",
    "from sklearn.tree import export_graphviz\n",
    "export_graphviz(\n",
    "    tree_clf,\n",
    "    out_file=r\"C:\\Users\\a.sakata\\py3env\\images\\tree\\iris_tree.dot\", #フルパス使用\n",
    "    feature_names=iris.feature_names[2:],\n",
    "    class_names=iris.target_names,\n",
    "    rounded=True,\n",
    "    filled=True\n",
    ")\n",
    "\n",
    "tree_clf.predict_proba([[5,1.5]])\n",
    "tree_clf.predict([[5,1.5]])\n",
    "tree_clf.predict_proba([[6,1.5]])\n",
    "\n",
    "from sklearn.datasets import make_moons\n",
    "X,y=make_moons(n_samples=100)\n",
    "\n",
    "\n",
    "#決定木　回帰\n",
    "from sklearn.tree import DecisionTreeRegressor\n",
    "tree_reg=DecisionTreeRegressor(max_depth=2)\n",
    "tree_reg.fit(X,y)\n",
    "\n",
    "\n"
   ]
  },
  {
   "cell_type": "code",
   "execution_count": 5,
   "metadata": {},
   "outputs": [
    {
     "name": "stdout",
     "output_type": "stream",
     "text": [
      "Fitting 3 folds for each of 294 candidates, totalling 882 fits\n"
     ]
    },
    {
     "name": "stderr",
     "output_type": "stream",
     "text": [
      "[Parallel(n_jobs=-1)]: Using backend LokyBackend with 4 concurrent workers.\n",
      "[Parallel(n_jobs=-1)]: Done  24 tasks      | elapsed:    8.6s\n",
      "[Parallel(n_jobs=-1)]: Done 344 tasks      | elapsed:   13.5s\n",
      "[Parallel(n_jobs=-1)]: Done 882 out of 882 | elapsed:   21.7s finished\n"
     ]
    },
    {
     "name": "stdout",
     "output_type": "stream",
     "text": [
      "{'max_leaf_nodes': 17, 'min_samples_split': 2}\n"
     ]
    },
    {
     "data": {
      "text/plain": [
       "0.872"
      ]
     },
     "execution_count": 5,
     "metadata": {},
     "output_type": "execute_result"
    }
   ],
   "source": [
    "from sklearn.datasets import make_moons\n",
    "X,y=make_moons(n_samples=10000,noise=0.4,random_state=42)\n",
    "\n",
    "from sklearn.model_selection import train_test_split\n",
    "X_train,X_test,y_train,y_test=train_test_split(X,y,test_size=0.2,random_state=42)\n",
    "\n",
    "#グリッドサーチ及び交差検証による決定木調整\n",
    "from sklearn.tree import DecisionTreeClassifier\n",
    "from sklearn.model_selection import GridSearchCV\n",
    "from scipy.stats import uniform\n",
    "param_distribution={\"max_leaf_nodes\":list(range(2, 100)), 'min_samples_split': [2, 3, 4]}\n",
    "tree_grd_search=GridSearchCV(DecisionTreeClassifier(random_state=42),param_distribution,cv=3,n_jobs=-1 ,verbose=3)\n",
    "tree_grd_search.fit(X_train,y_train)\n",
    "print(tree_grd_search.best_params_)\n",
    "from sklearn.metrics import accuracy_score\n",
    "y_pred=tree_grd_search.predict(X_test) ##gridsearchcvはデフォルトでベストモデルを抽出する\n",
    "print(accuracy_score(y_test,y_pred))\n",
    "\n",
    "from sklearn.model_selection import ShuffleSplit\n",
    "\n",
    "n_trees=1000\n",
    "n_instances=100\n",
    "\n",
    "mini_sets=[]\n",
    "\n",
    "rs=ShuffleSplit(n_splits=n_trees,\n",
    "                test_size=len(X_train)-n_instances,\n",
    "                random_state=42,\n",
    "    )\n",
    "\n",
    "for mini_train_index,mini_test_index in rs.split(X_train):\n",
    "    X_mini_train=X_train[mini_train_index]\n",
    "    y_mini_train=y_train[mini_train_index]\n",
    "    mini_sets.append((X_mini_train,y_mini_train))\n",
    "\n",
    "#新推定器\n",
    "from sklearn.base import clone\n",
    "\n",
    "forest=[clone(tree_grd_search.best_estimator_)for _ in range(n_trees)]\n",
    "\n",
    "accuracy_scores=[]\n",
    "\n",
    "for tree, ( X_mini_train, y_mini_train) in zip(forest, mini_sets):\n",
    "    tree.fit(X_mini_train, y_mini_train)\n",
    "    y_pred=tree.predict(X_test)\n",
    "    accuracy_scores.append(accuracy_score(y_test,y_pred))\n",
    "\n",
    "import numpy as np\n",
    "np.mean(accuracy_scores)  \n",
    "\n",
    "#shufflesplit使用\n",
    "from sklearn.model_selection import ShuffleSplit\n",
    "\n",
    "n_trees=1000\n",
    "n_instances=100\n",
    "\n",
    "mini_sets=[]\n",
    "\n",
    "rs=ShuffleSplit(n_splits=n_trees,\n",
    "                test_size=len(X_train)-n_instances,\n",
    "                random_state=42,\n",
    "    )\n",
    "\n",
    "for mini_train_index,mini_test_index in rs.split(X_train):\n",
    "    X_mini_train=X_train[mini_train_index]\n",
    "    y_mini_train=y_train[mini_train_index]\n",
    "    mini_sets.append((X_mini_train,y_mini_train))\n",
    "\n",
    "\n",
    "forest=[clone(tree_grd_search.best_estimator_)for _ in range(n_trees)]\n",
    "\n",
    "accuracy_scores=[]\n",
    "\n",
    "for tree, ( X_mini_train, y_mini_train) in zip(forest, mini_sets):\n",
    "    tree.fit(X_mini_train, y_mini_train)\n",
    "    y_pred=tree.predict(X_test)\n",
    "    accuracy_scores.append(accuracy_score(y_test,y_pred))\n",
    "\n",
    "np.mean(accuracy_scores)    \n",
    "\n",
    "Y_pred= np.empty([n_trees, len(X_test)], dtype=np.uint8)\n",
    "\n",
    "for tree_index, tree in enumerate(forest):\n",
    "    Y_pred[tree_index]=tree.predict(X_test) ###テストセットに入っているここのインスタンスに対して、1000回予測を行いそれを格納する\n",
    "\n",
    "from scipy.stats import mode\n",
    "\n",
    "y_pred_majority_votes, n_votes = mode(Y_pred, axis=0) ##modeは行列の最頻値を取り出す。\n",
    "\n",
    "accuracy_score(y_test, y_pred_majority_votes.reshape([-1]))\n"
   ]
  },
  {
   "cell_type": "code",
   "execution_count": null,
   "metadata": {},
   "outputs": [],
   "source": [
    "#未\n",
    "from sklearn.model_selection import ShuffleSplit\n",
    "from sklearn.datasets import make_moons\n",
    "from sklearn.model_selection import train_test_split\n",
    "from sklearn.metrics import accuracy_score\n",
    "X,y=make_moons(n_samples=10000,noise=0.4,random_state=42)\n",
    "X_train,X_test,y_train,y_test=train_test_split(X,y,test_size=0.2,random_state=42)\n",
    "\n",
    "rs=ShuffleSplit(test_size=len(X_train)-100,n_splits=1000,random_state=42)\n",
    "from sklearn.tree import DecisionTreeClassifier\n",
    "tree_clf=DecisionTreeClassifier(max_leaf_nodes= 17, min_samples_split=2,random_state=42)\n",
    "accuracy_box=[]\n",
    "for train_index, test_index in rs.split(X_train):\n",
    "    tree_clf.fit(X_train[train_index],y_train[train_index])\n",
    "    y_pred=tree_clf.predict(X_test)\n",
    "    accuracy=accuracy_score(y_test,y_pred)\n",
    "    accuracy_box.append(accuracy)\n",
    "\n",
    "import numpy as np    \n",
    "np.mean(accuracy_box)  \n",
    "\n",
    "tree_clf=DecisionTreeClassifier(max_leaf_nodes= 17, min_samples_split=2,random_state=42)\n",
    "accuracy_box=[]\n",
    "for train_index, test_index in rs.split(X_train):\n",
    "    box=[]\n",
    "    for i in rage(1000):\n",
    "            tree_clf.fit(X_train[train_index],y_train[train_index])\n",
    "            y_pred=tree_clf.predict(X_test)\n",
    "            box.append(y_pred)\n",
    "    tree_clf.fit(X_train[train_index],y_train[train_index])    \n",
    "    y_pred=tree_clf.predict(X_test)\n",
    "    accuracy=accuracy_score(y_test,y_pred)\n",
    "    accuracy_box.append(accuracy)\n",
    "\n",
    "    \n",
    "    "
   ]
  }
 ],
 "metadata": {
  "kernelspec": {
   "display_name": "Python 3",
   "language": "python",
   "name": "python3"
  },
  "language_info": {
   "codemirror_mode": {
    "name": "ipython",
    "version": 3
   },
   "file_extension": ".py",
   "mimetype": "text/x-python",
   "name": "python",
   "nbconvert_exporter": "python",
   "pygments_lexer": "ipython3",
   "version": "3.7.7"
  }
 },
 "nbformat": 4,
 "nbformat_minor": 4
}
