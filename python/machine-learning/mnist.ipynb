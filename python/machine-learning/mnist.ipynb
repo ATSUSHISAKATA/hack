{
 "cells": [
  {
   "cell_type": "code",
   "execution_count": 4,
   "metadata": {},
   "outputs": [
    {
     "name": "stdout",
     "output_type": "stream",
     "text": [
      "Fitting 5 folds for each of 6 candidates, totalling 30 fits\n"
     ]
    },
    {
     "name": "stderr",
     "output_type": "stream",
     "text": [
      "[Parallel(n_jobs=-1)]: Using backend LokyBackend with 4 concurrent workers.\n",
      "[Parallel(n_jobs=-1)]: Done  30 out of  30 | elapsed: 239.8min finished\n"
     ]
    },
    {
     "name": "stdout",
     "output_type": "stream",
     "text": [
      "0.9714\n"
     ]
    }
   ],
   "source": [
    "import numpy as np\n",
    "def sort_by_target(mnist):\n",
    "    reorder_train=np.array(sorted([(target, i)for i,target in enumerate(mnist.target[:60000])]))[:,1]\n",
    "    reorder_test=np.array(sorted([(target,i)for i, target in enumerate(mnist.target[60000:])]))[:,1]\n",
    "    mnist.data[:60000] = mnist.data[reorder_train]\n",
    "    mnist.target[:60000]=mnist.target[reorder_train]\n",
    "    mnist.data[60000:]=mnist.data[reorder_test+60000]\n",
    "    mnist.target[60000:]=mnist.target[reorder_test+60000]\n",
    "try:\n",
    "    from sklearn.datasets import fetch_openml\n",
    "    mnist=fetch_openml(\"mnist_784\",version=1,cache=True)\n",
    "    mnist.target=mnist.target.astype(np.int8)\n",
    "    sort_by_target(mnist)\n",
    "\n",
    "except ImportError:\n",
    "    from sklearn.datasets import fetch_mldata\n",
    "    mnist=fetch_mldata(\"MNIST original\")\n",
    "mnist[\"data\"],mnist[\"target\"] \n",
    "\n",
    "mnist.data.shape\n",
    "X,y=mnist[\"data\"],mnist[\"target\"]\n",
    "\n",
    "X_train,X_test,y_train,y_test = X[:60000],X[60000:],y[:60000],y[60000:]\n",
    "\n",
    "import numpy as np\n",
    "\n",
    "shuffle_index = np.random.permutation(60000)\n",
    "X_train, y_train = X_train[shuffle_index], y_train[shuffle_index]\n",
    "from sklearn.neighbors import KNeighborsClassifier\n",
    "knn_clf=KNeighborsClassifier()\n",
    "\n",
    "from sklearn.model_selection import GridSearchCV\n",
    "param_grid=[\n",
    "    {\"weights\":[\"uniform\",\"distance\"],\n",
    "    \"n_neighbors\":[3,4,5]}\n",
    "]\n",
    "grid_search=GridSearchCV(knn_clf,param_grid,cv=5,verbose=3, n_jobs=-1)##モデルにはverbose入れたほうがいい、　n_jobsでフル回転\n",
    "grid_search.fit(X_train,y_train)\n",
    "grid_search_pred=grid_search.predict(X_test)\n",
    "from sklearn.metrics import accuracy_score\n",
    "print(accuracy_score(grid_search_pred,y_test))\n",
    "#T_sum=np.sum(grid_search_pred==y_test)\n",
    "#print(T_sum/70000)\n",
    "\n",
    "\n",
    "\n",
    "\n",
    "    "
   ]
  },
  {
   "cell_type": "code",
   "execution_count": 6,
   "metadata": {},
   "outputs": [],
   "source": [
    "import numpy as np\n",
    "def sort_by_target(mnist):\n",
    "    reorder_train=np.array(sorted([(target, i)for i,target in enumerate(mnist.target[:60000])]))[:,1]\n",
    "    reorder_test=np.array(sorted([(target,i)for i, target in enumerate(mnist.target[60000:])]))[:,1]\n",
    "    mnist.data[:60000] = mnist.data[reorder_train]\n",
    "    mnist.target[:60000]=mnist.target[reorder_train]\n",
    "    mnist.data[60000:]=mnist.data[reorder_test+60000]\n",
    "    mnist.target[60000:]=mnist.target[reorder_test+60000]\n",
    "try:\n",
    "    from sklearn.datasets import fetch_openml\n",
    "    mnist=fetch_openml(\"mnist_784\",version=1,cache=True)\n",
    "    mnist.target=mnist.target.astype(np.int8)\n",
    "    sort_by_target(mnist)\n",
    "\n",
    "except ImportError:\n",
    "    from sklearn.datasets import fetch_mldata\n",
    "    mnist=fetch_mldata(\"MNIST original\")\n",
    "mnist[\"data\"],mnist[\"target\"] \n",
    "\n",
    "mnist.data.shape\n",
    "X,y=mnist[\"data\"],mnist[\"target\"]\n",
    "\n",
    "X_train,X_test,y_train,y_test = X[:60000],X[60000:],y[:60000],y[60000:]\n",
    "\n",
    "from scipy.ndimage.interpolation import shift\n",
    "\n",
    "def shift_image(image, dx,dy):\n",
    "    image=image.reshape((28,28))\n",
    "    shifted_image=shift(image,[dy,dx],cval=0,mode=\"constant\")\n",
    "    return shifted_image.reshape([-1])\n",
    "\n",
    "X_train_augmented=[image for image in X_train]\n",
    "y_train_augmented=[label for label in y_train]\n",
    "\n",
    "for dx, dy in ((1,0),(-1,0),(0,1),(0,-1)):\n",
    "    for image, label in zip(X_train,y_train):\n",
    "        X_train_augmented.append(shift_image(image, dx, dy))\n",
    "        y_train_augmented.append(label)\n",
    "        \n",
    "X_train_augmented=np.array(X_train_augmented)\n",
    "y_train_augmented=np.array(y_train_augmented)\n",
    "\n",
    "\n",
    "\n",
    "\n",
    "    "
   ]
  },
  {
   "cell_type": "code",
   "execution_count": null,
   "metadata": {},
   "outputs": [
    {
     "name": "stdout",
     "output_type": "stream",
     "text": [
      "Saving figure some_digit_plot\n"
     ]
    },
    {
     "data": {
      "image/png": "[encoded data removed]",
      "text/plain": [
       "<Figure size 432x288 with 1 Axes>"
      ]
     },
     "metadata": {
      "needs_background": "light"
     },
     "output_type": "display_data"
    },
    {
     "name": "stdout",
     "output_type": "stream",
     "text": [
      "0.7187227359972082\n"
     ]
    }
   ],
   "source": [
    "\n",
    "from __future__ import division, print_function, unicode_literals\n",
    "\n",
    "import numpy as np\n",
    "import os\n",
    "\n",
    "np.random.seed(42)\n",
    "\n",
    "%matplotlib inline\n",
    "import matplotlib as mpl\n",
    "import matplotlib.pyplot as plt\n",
    "mpl.rc(\"axes\", labelsize=14)\n",
    "mpl.rc(\"xtick\", labelsize=12)\n",
    "mpl.rc(\"ytick\", labelsize=12)\n",
    "\n",
    "PROJECT_ROOT_DIR=\".\"\n",
    "CHAPTER_ID = \"classification\"\n",
    "\n",
    "def save_fig(fig_id, tight_layout=True):\n",
    "    path=os.path.join(PROJECT_ROOT_DIR, \"images\",CHAPTER_ID, fig_id+\".png\")\n",
    "    print(\"Saving figure\", fig_id)\n",
    "    if tight_layout:\n",
    "        plt.tight_layout()\n",
    "    plt.savefig(path,format=\"png\",dpi=300)    \n",
    "    \n",
    "\n",
    "\n",
    "def sort_by_target(mnist):\n",
    "    reorder_train=np.array(sorted([(target, i)for i,target in enumerate(mnist.target[:60000])]))[:,1]\n",
    "    reorder_test=np.array(sorted([(target,i)for i, target in enumerate(mnist.target[60000:])]))[:,1]\n",
    "    mnist.data[:60000] = mnist.data[reorder_train]\n",
    "    mnist.target[:60000]=mnist.target[reorder_train]\n",
    "    mnist.data[60000:]=mnist.data[reorder_test+60000]\n",
    "    mnist.target[60000:]=mnist.target[reorder_test+60000]\n",
    "\n",
    "\n",
    "                                                                                            \n",
    "try:\n",
    "    from sklearn.datasets import fetch_openml\n",
    "    mnist=fetch_openml(\"mnist_784\",version=1,cache=True)\n",
    "    mnist.target=mnist.target.astype(np.int8)\n",
    "    sort_by_target(mnist)\n",
    "\n",
    "except ImportError:\n",
    "    from sklearn.datasets import fetch_mldata\n",
    "    mnist=fetch_mldata(\"MNIST original\")\n",
    "mnist[\"data\"],mnist[\"target\"] \n",
    "\n",
    "mnist.data.shape\n",
    "X,y=mnist[\"data\"],mnist[\"target\"]\n",
    "y.shape\n",
    "some_digit=X[36000]\n",
    "some_digit_image=some_digit.reshape(28,28)\n",
    "plt.imshow(some_digit_image, cmap=mpl.cm.binary,interpolation=\"nearest\")\n",
    "plt.axis(\"off\")\n",
    "save_fig(\"some_digit_plot\")\n",
    "plt.show()\n",
    "\n",
    "def plot_digit(data):\n",
    "    image=data.reshape(28,28)\n",
    "    plt.imshow(image,cmap=mpl.cm.binary,interpolation=\"nearest\")##画像やヒートマップを描画する\n",
    "    plt.axis(\"off\")##軸ラベル非表示\n",
    "    \n",
    "\n",
    "def plot_digits(instances, images_per_row=10, **options):\n",
    "    size=28\n",
    "    images_per_row=min(len(instances),images_per_row)\n",
    "    images=[instance.reshape(size,size) for instance in instances]\n",
    "    n_rows=(len(instances)-1)//images_per_row+1\n",
    "    row_imaves=[]\n",
    "    n_empty=n_rows*images_per_row-len(instances)\n",
    "    images.append(np.zeros((size,size*n_empty)))\n",
    "    for row in range(n_rows):\n",
    "        rimages = images[row*images_per_row:(row + 1)*images_per_row]\n",
    "        row_imaves.append(np.concatenate(rimages, axis=1))\n",
    "    image=np.concatenate(rimages,axis=0)\n",
    "    plt.imshow(image,cmap=mpl.cm.binary, **options)\n",
    "    plt.axis(\"off\")\n",
    "                    \n",
    "\n",
    "X_train,X_test,y_train,y_test = X[:60000],X[60000:],y[:60000],y[60000:]\n",
    "\n",
    "from scipy.ndimage.interpolation import shift\n",
    "\n",
    "def shift_image(image, dx,dy):\n",
    "    image=image.reshape((28,28))\n",
    "    shifted_image=shift(image,[dy,dx],cval=0,mode=\"constant\")\n",
    "    return shifted_image.reshape([-1])\n",
    "\n",
    "X_train_augmented=[image for image in X_train]\n",
    "y_train_augmented=[label for label in y_train]\n",
    "\n",
    "for dx, dy in ((1,0),(-1,0),(0,1),(0,-1)):\n",
    "    for image, label in zip(X_train,y_train):\n",
    "        X_train_augmented.append(shift_image(image, dx, dy))\n",
    "        y_train_augmented.append(label)\n",
    "        \n",
    "X_train_augmented=np.array(X_train_augmented)\n",
    "y_train_augmented=np.array(y_train_augmented)\n",
    "y_train_5 = (y_train_augmented==5)\n",
    "\n",
    "from sklearn.linear_model import SGDClassifier\n",
    "\n",
    "sgd_clf = SGDClassifier(max_iter=5,tol=-np.infty, random_state=0)\n",
    "\n",
    "from sklearn.model_selection import cross_val_predict\n",
    "\n",
    "y_train_pred = cross_val_predict(sgd_clf, X_train_augmented, y_train_5, cv=3)\n",
    "\n",
    "from sklearn.metrics import precision_score\n",
    "\n",
    "print(precision_score(y_train_5, y_train_pred))\n",
    "from sklearn.neighbors import KNeighborsClassifier\n",
    "knn_clf=KNeighborsClassifier(n_neighbors= 4, weights= 'distance')\n",
    "knn_clf.fit(X_train_augmented,y_train_augmented)\n",
    "from sklearn.metrics import accuracy_score\n",
    "y_pred=knn_clf.predict(X_test)\n",
    "print(accuracy_score(y_test,y_pred))\n",
    "\n",
    "#0.7187227359972082\n",
    "\n"
   ]
  },
  {
   "cell_type": "code",
   "execution_count": 15,
   "metadata": {},
   "outputs": [
    {
     "data": {
      "text/plain": [
       "[[18, 30.0], [30, 18.0]]"
      ]
     },
     "execution_count": 15,
     "metadata": {},
     "output_type": "execute_result"
    }
   ],
   "source": []
  },
  {
   "cell_type": "code",
   "execution_count": null,
   "metadata": {},
   "outputs": [],
   "source": []
  }
 ],
 "metadata": {
  "kernelspec": {
   "display_name": "Python 3",
   "language": "python",
   "name": "python3"
  },
  "language_info": {
   "codemirror_mode": {
    "name": "ipython",
    "version": 3
   },
   "file_extension": ".py",
   "mimetype": "text/x-python",
   "name": "python",
   "nbconvert_exporter": "python",
   "pygments_lexer": "ipython3",
   "version": "3.7.7"
  }
 },
 "nbformat": 4,
 "nbformat_minor": 4
}
