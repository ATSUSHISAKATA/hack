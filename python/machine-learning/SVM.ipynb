{
 "cells": [
  {
   "cell_type": "code",
   "execution_count": 36,
   "metadata": {
    "scrolled": true
   },
   "outputs": [
    {
     "data": {
      "image/png": "[encoded data removed]",
      "text/plain": [
       "<Figure size 432x288 with 1 Axes>"
      ]
     },
     "metadata": {
      "needs_background": "light"
     },
     "output_type": "display_data"
    },
    {
     "data": {
      "text/plain": [
       "SVR(C=100, degree=2, kernel='poly')"
      ]
     },
     "execution_count": 36,
     "metadata": {},
     "output_type": "execute_result"
    }
   ],
   "source": [
    "#線形SVM分類器\n",
    "from sklearn import datasets\n",
    "import numpy as np\n",
    "from sklearn.pipeline import Pipeline\n",
    "from sklearn.preprocessing import StandardScaler\n",
    "from sklearn.svm import LinearSVC\n",
    "\n",
    "iris=datasets.load_iris()\n",
    "X=iris[\"data\"][:,(2,3)]\n",
    "y=(iris[\"target\"]==2).astype(np.float64)\n",
    "scaler=StandardScaler()\n",
    "svc=LinearSVC(C=1,loss=\"hinge\")\n",
    "pipeline=Pipeline([\n",
    "    (\"scaler\",StandardScaler()),\n",
    "   (\"svm\",LinearSVC(C=1,loss=\"hinge\")),\n",
    "                  ])\n",
    "\n",
    "pipeline.fit(X,y)\n",
    "print(pipeline.predict([[5.5,1.7]]))\n",
    "\n",
    "#多項式特徴量\n",
    "from sklearn.datasets import make_moons\n",
    "from sklearn.preprocessing import PolynomialFeatures\n",
    "polynomial_svm_clf=Pipeline([                    \n",
    "    (\"poly_features\",PolynomialFeatures(degree=3)),\n",
    "    (\"scaler\",StandardScaler()),\n",
    "    (\"svc\",LinearSVC(C=10,loss=\"hinge\",random_state=42))\n",
    "])\n",
    "\n",
    "X,y=make_moons(n_samples=10,random_state=42)\n",
    "\n",
    "polynomial_svm_clf.fit(X,y)\n",
    "polynomial_svm_clf.predict([[0.5,0.5]])\n",
    "\n",
    "#多項式カーネル\n",
    "from sklearn.svm import SVC\n",
    "#poly_kernel_svm_clf=imbPipeline({\n",
    "#    (\"scaler\",StandardScaler()),\n",
    "#    (\"svm_clf\",SVC(kernel=\"poly\",degree=3,coef0=1,C=5))\n",
    "#})\n",
    "\n",
    "poly_kernel_svm_clf.fit(X,y)\n",
    "poly_kernel_svm_clf.predict([[0.5,0.5]])\n",
    "\n",
    "\n",
    "def plot_predictions(clf, axes):\n",
    "    x0s = np.linspace(axes[0], axes[1], 100)\n",
    "    x1s = np.linspace(axes[2], axes[3], 100)\n",
    "    x0, x1 = np.meshgrid(x0s, x1s)\n",
    "    X = np.c_[x0.ravel(), x1.ravel()]\n",
    "    y_pred = clf.predict(X).reshape(x0.shape)\n",
    "    y_decision = clf.decision_function(X).reshape(x0.shape)\n",
    "    plt.contourf(x0, x1, y_pred, cmap=plt.cm.brg, alpha=0.2)\n",
    "    plt.contourf(x0, x1, y_decision, cmap=plt.cm.brg, alpha=0.1)\n",
    "\n",
    "plot_predictions(polynomial_svm_clf, [-1.5, 2.5, -1, 1.5])\n",
    "plt.show()\n",
    "\n",
    "#ガウスrbfカーネル\n",
    "rbf_kernel_svm_clf=Pipeline([\n",
    "    (\"scaler\",StandardScaler()),\n",
    "    (\"svm_clf\",SVC(kernel=\"rbf\",gamma=0.5,C=0.001))\n",
    "])\n",
    "rbf_kernel_svm_clf.fit(X,y)\n",
    "rbf_kernel_svm_clf.predict([[1.5,0.5]])\n",
    "\n",
    "#線形SVM回帰\n",
    "from sklearn.svm import LinearSVR ##Rは回帰\n",
    "svm_reg=LinearSVR(epsilon=1.5)\n",
    "svm_reg.fit(X,y)\n",
    "\n",
    "#カーネルトリック付きSVM\n",
    "from sklearn.svm import SVR\n",
    "svm_poly_reg=SVR(kernel=\"poly\",degree=2,C=100,epsilon=0.1)\n",
    "svm_poly_reg.fit(X,y)\n",
    "\n",
    "\n"
   ]
  },
  {
   "cell_type": "code",
   "execution_count": 1,
   "metadata": {},
   "outputs": [
    {
     "name": "stderr",
     "output_type": "stream",
     "text": [
      "C:\\Users\\a.sakata\\anaconda3\\lib\\site-packages\\sklearn\\svm\\_base.py:977: ConvergenceWarning: Liblinear failed to converge, increase the number of iterations.\n",
      "  \"the number of iterations.\", ConvergenceWarning)\n"
     ]
    },
    {
     "name": "stdout",
     "output_type": "stream",
     "text": [
      "0.96\n",
      "0.96\n",
      "0.94\n"
     ]
    },
    {
     "name": "stderr",
     "output_type": "stream",
     "text": [
      "C:\\Users\\a.sakata\\anaconda3\\lib\\site-packages\\sklearn\\svm\\_base.py:977: ConvergenceWarning: Liblinear failed to converge, increase the number of iterations.\n",
      "  \"the number of iterations.\", ConvergenceWarning)\n"
     ]
    },
    {
     "name": "stdout",
     "output_type": "stream",
     "text": [
      "LinearSVC:                   [-1.7514107  -0.99790184 -3.18018548] [[-1.29828898 -1.46894867]\n",
      " [ 0.02090532 -0.01880087]\n",
      " [ 2.19699427  3.16756184]]\n",
      "SVC:                      [-1.80438229 -0.31466756  3.71602789] [[-1.49242209 -1.23441536]\n",
      " [-0.68487142 -0.60163267]\n",
      " [-2.84187135 -3.29080461]]\n",
      "SGDClassifier(alpha=0.00133):             [-1.8058 -0.9972 -3.6052] [[-1.49733278 -1.22858843]\n",
      " [ 0.0244043  -0.02204132]\n",
      " [ 2.74355876  3.26322486]]\n"
     ]
    }
   ],
   "source": [
    "#線形分割可能データにおけるSVM使用例、\n",
    "from sklearn.pipeline import Pipeline\n",
    "from sklearn.preprocessing import StandardScaler\n",
    "from sklearn import datasets\n",
    "#線形SVM\n",
    "from sklearn.svm import LinearSVC\n",
    "import numpy as np\n",
    "from sklearn.preprocessing import PolynomialFeatures\n",
    "iris=datasets.load_iris()\n",
    "X=iris[\"data\"][:,(2,3)]\n",
    "y=iris[\"target\"]\n",
    "\n",
    "poly_svm_clf=Pipeline([\n",
    "    (\"poly_feature\",PolynomialFeatures(degree=3)),\n",
    "    (\"scaler\",StandardScaler()),\n",
    "    (\"linear\",LinearSVC(C=5,loss=\"hinge\"))\n",
    "])\n",
    "\n",
    "poly_svm_clf.fit(X,y)\n",
    "y_pred=poly_svm_clf.predict(X)\n",
    "print(np.mean(y_pred==y))\n",
    "#カーネルトリック付きSVM\n",
    "from sklearn.svm import SVC\n",
    "poly_kernel_svm_clf=Pipeline([\n",
    "    (\"scaler\",StandardScaler()),\n",
    "    (\"svc\",SVC(kernel=\"linear\",C=5))\n",
    "])\n",
    "poly_kernel_svm_clf.fit(X,y)\n",
    "poly_kernel_svm_clf.predict(X)\n",
    "y_pred=poly_kernel_svm_clf.predict(X)\n",
    "print(np.mean(y_pred==y))\n",
    "\n",
    "#確率的勾配降下法\n",
    "from sklearn.linear_model import SGDClassifier\n",
    "sgd_clf=Pipeline([\n",
    "    (\"scaler\",StandardScaler()),\n",
    "    (\"sgd\",SGDClassifier(loss=\"hinge\",max_iter=100000,eta0=0.001,learning_rate=\"constant\",tol=-np.infty,\n",
    "                         random_state=0,alpha=1/(5*150)))\n",
    "])\n",
    "     \n",
    "sgd_clf.fit(X,y)\n",
    "sgd_clf.predict(X)\n",
    "y_pred=sgd_clf.predict(X)\n",
    "print(np.mean(y_pred==y))\n",
    "\n",
    "C=5\n",
    "alpha=1/(C*len(X))\n",
    "\n",
    "lin_clf=LinearSVC(loss=\"hinge\",C=C,random_state=42)\n",
    "svm_clf=SVC(kernel=\"linear\",C=C)\n",
    "sgd_clf=SGDClassifier(loss=(\"hinge\"),eta0=0.0001,alpha=alpha,\n",
    "                     learning_rate=\"constant\",max_iter=100000,tol=-np.infty,random_state=42)\n",
    "\n",
    "scaler=StandardScaler()\n",
    "X_scaled=scaler.fit_transform(X)\n",
    "\n",
    "lin_clf.fit(X_scaled,y)\n",
    "svm_clf.fit(X_scaled,y)\n",
    "sgd_clf.fit(X_scaled,y)\n",
    "\n",
    "#線形SVM、カーネルトリック付きSVM、確率的勾配勾配降下法の比較\n",
    "print(\"LinearSVC:                  \",lin_clf.intercept_,lin_clf.coef_)\n",
    "print(\"SVC:                     \",svm_clf.intercept_,svm_clf.coef_)\n",
    "print(\"SGDClassifier(alpha={:.5f}):            \".format(sgd_clf.alpha),sgd_clf.intercept_,sgd_clf.coef_)\n",
    "\n",
    "\n",
    "\n",
    "\n"
   ]
  },
  {
   "cell_type": "code",
   "execution_count": 2,
   "metadata": {},
   "outputs": [
    {
     "name": "stderr",
     "output_type": "stream",
     "text": [
      "C:\\Users\\a.sakata\\anaconda3\\lib\\site-packages\\sklearn\\svm\\_base.py:977: ConvergenceWarning: Liblinear failed to converge, increase the number of iterations.\n",
      "  \"the number of iterations.\", ConvergenceWarning)\n",
      "C:\\Users\\a.sakata\\anaconda3\\lib\\site-packages\\sklearn\\svm\\_base.py:977: ConvergenceWarning: Liblinear failed to converge, increase the number of iterations.\n",
      "  \"the number of iterations.\", ConvergenceWarning)\n"
     ]
    },
    {
     "name": "stdout",
     "output_type": "stream",
     "text": [
      "Fitting 3 folds for each of 10 candidates, totalling 30 fits\n",
      "[CV] C=8.852316058423087, gamma=0.001766074650481071 .................\n"
     ]
    },
    {
     "name": "stderr",
     "output_type": "stream",
     "text": [
      "[Parallel(n_jobs=1)]: Using backend SequentialBackend with 1 concurrent workers.\n"
     ]
    },
    {
     "name": "stdout",
     "output_type": "stream",
     "text": [
      "[CV] .. C=8.852316058423087, gamma=0.001766074650481071, total=   1.7s\n",
      "[CV] C=8.852316058423087, gamma=0.001766074650481071 .................\n"
     ]
    },
    {
     "name": "stderr",
     "output_type": "stream",
     "text": [
      "[Parallel(n_jobs=1)]: Done   1 out of   1 | elapsed:    1.6s remaining:    0.0s\n"
     ]
    },
    {
     "name": "stdout",
     "output_type": "stream",
     "text": [
      "[CV] .. C=8.852316058423087, gamma=0.001766074650481071, total=   1.7s\n",
      "[CV] C=8.852316058423087, gamma=0.001766074650481071 .................\n",
      "[CV] .. C=8.852316058423087, gamma=0.001766074650481071, total=   1.8s\n",
      "[CV] C=1.8271960104746645, gamma=0.006364737055453384 ................\n",
      "[CV] . C=1.8271960104746645, gamma=0.006364737055453384, total=   1.9s\n",
      "[CV] C=1.8271960104746645, gamma=0.006364737055453384 ................\n",
      "[CV] . C=1.8271960104746645, gamma=0.006364737055453384, total=   1.8s\n",
      "[CV] C=1.8271960104746645, gamma=0.006364737055453384 ................\n",
      "[CV] . C=1.8271960104746645, gamma=0.006364737055453384, total=   1.5s\n",
      "[CV] C=9.875199193765326, gamma=0.051349833451870636 .................\n",
      "[CV] .. C=9.875199193765326, gamma=0.051349833451870636, total=   1.5s\n",
      "[CV] C=9.875199193765326, gamma=0.051349833451870636 .................\n",
      "[CV] .. C=9.875199193765326, gamma=0.051349833451870636, total=   1.6s\n",
      "[CV] C=9.875199193765326, gamma=0.051349833451870636 .................\n",
      "[CV] .. C=9.875199193765326, gamma=0.051349833451870636, total=   1.9s\n",
      "[CV] C=6.59992909281409, gamma=0.05991666578466177 ...................\n",
      "[CV] .... C=6.59992909281409, gamma=0.05991666578466177, total=   3.0s\n",
      "[CV] C=6.59992909281409, gamma=0.05991666578466177 ...................\n",
      "[CV] .... C=6.59992909281409, gamma=0.05991666578466177, total=   2.0s\n",
      "[CV] C=6.59992909281409, gamma=0.05991666578466177 ...................\n",
      "[CV] .... C=6.59992909281409, gamma=0.05991666578466177, total=   2.1s\n",
      "[CV] C=9.053435975487119, gamma=0.003596490522533181 .................\n",
      "[CV] .. C=9.053435975487119, gamma=0.003596490522533181, total=   2.4s\n",
      "[CV] C=9.053435975487119, gamma=0.003596490522533181 .................\n",
      "[CV] .. C=9.053435975487119, gamma=0.003596490522533181, total=   2.1s\n",
      "[CV] C=9.053435975487119, gamma=0.003596490522533181 .................\n",
      "[CV] .. C=9.053435975487119, gamma=0.003596490522533181, total=   2.2s\n",
      "[CV] C=2.701062804458301, gamma=0.004002330992905356 .................\n",
      "[CV] .. C=2.701062804458301, gamma=0.004002330992905356, total=   2.6s\n",
      "[CV] C=2.701062804458301, gamma=0.004002330992905356 .................\n",
      "[CV] .. C=2.701062804458301, gamma=0.004002330992905356, total=   3.0s\n",
      "[CV] C=2.701062804458301, gamma=0.004002330992905356 .................\n",
      "[CV] .. C=2.701062804458301, gamma=0.004002330992905356, total=   3.2s\n",
      "[CV] C=3.2711787843881437, gamma=0.017596957507461645 ................\n",
      "[CV] . C=3.2711787843881437, gamma=0.017596957507461645, total=   2.1s\n",
      "[CV] C=3.2711787843881437, gamma=0.017596957507461645 ................\n",
      "[CV] . C=3.2711787843881437, gamma=0.017596957507461645, total=   2.6s\n",
      "[CV] C=3.2711787843881437, gamma=0.017596957507461645 ................\n",
      "[CV] . C=3.2711787843881437, gamma=0.017596957507461645, total=   2.0s\n",
      "[CV] C=6.848991127746501, gamma=0.01573529056426603 ..................\n",
      "[CV] ... C=6.848991127746501, gamma=0.01573529056426603, total=   2.4s\n",
      "[CV] C=6.848991127746501, gamma=0.01573529056426603 ..................\n",
      "[CV] ... C=6.848991127746501, gamma=0.01573529056426603, total=   2.6s\n",
      "[CV] C=6.848991127746501, gamma=0.01573529056426603 ..................\n",
      "[CV] ... C=6.848991127746501, gamma=0.01573529056426603, total=   2.0s\n",
      "[CV] C=2.893035364914488, gamma=0.03834647526105027 ..................\n",
      "[CV] ... C=2.893035364914488, gamma=0.03834647526105027, total=   2.2s\n",
      "[CV] C=2.893035364914488, gamma=0.03834647526105027 ..................\n",
      "[CV] ... C=2.893035364914488, gamma=0.03834647526105027, total=   2.2s\n",
      "[CV] C=2.893035364914488, gamma=0.03834647526105027 ..................\n",
      "[CV] ... C=2.893035364914488, gamma=0.03834647526105027, total=   2.0s\n",
      "[CV] C=5.336260835426313, gamma=0.008808538172595842 .................\n",
      "[CV] .. C=5.336260835426313, gamma=0.008808538172595842, total=   2.3s\n",
      "[CV] C=5.336260835426313, gamma=0.008808538172595842 .................\n",
      "[CV] .. C=5.336260835426313, gamma=0.008808538172595842, total=   3.0s\n",
      "[CV] C=5.336260835426313, gamma=0.008808538172595842 .................\n",
      "[CV] .. C=5.336260835426313, gamma=0.008808538172595842, total=   2.4s\n"
     ]
    },
    {
     "name": "stderr",
     "output_type": "stream",
     "text": [
      "[Parallel(n_jobs=1)]: Done  30 out of  30 | elapsed:  1.1min finished\n"
     ]
    },
    {
     "data": {
      "text/plain": [
       "0.9709"
      ]
     },
     "execution_count": 2,
     "metadata": {},
     "output_type": "execute_result"
    }
   ],
   "source": [
    "#mnistでの分類\n",
    "from sklearn.datasets import fetch_openml\n",
    "mnist=fetch_openml(\"mnist_784\",version=1,cache=True)\n",
    "     \n",
    "X=mnist[\"data\"]\n",
    "y=mnist[\"target\"]\n",
    "\n",
    "X_train=X[:60000]\n",
    "y_train=y[:60000]\n",
    "X_test=X[60000:]\n",
    "y_test=y[60000:]\n",
    "\n",
    "import numpy as np\n",
    "np.random.seed(42)\n",
    "rnd_idx=np.random.permutation(60000)\n",
    "X_train=X_train[rnd_idx]\n",
    "y_train=y_train[rnd_idx]\n",
    "\n",
    "from sklearn.svm import LinearSVC\n",
    "lin_clf=LinearSVC(random_state=42)\n",
    "lin_clf.fit(X_train,y_train)\n",
    "\n",
    "from sklearn.metrics import accuracy_score\n",
    "\n",
    "y_pred=lin_clf.predict(X_train)\n",
    "accuracy_score(y_train,y_pred)\n",
    "\n",
    "from sklearn.preprocessing import StandardScaler\n",
    "scaler=StandardScaler()\n",
    "X_train_scaled= scaler.fit_transform(X_train.astype(np.float32))\n",
    "X_test_scaled=scaler.transform(X_test.astype(np.float32))\n",
    "\n",
    "lin_clf=LinearSVC(random_state=42)\n",
    "lin_clf.fit(X_train_scaled,y_train)\n",
    "\n",
    "y_pred=lin_clf.predict(X_train_scaled)\n",
    "accuracy_score(y_train,y_pred)\n",
    "\n",
    "svm_clf=SVC(gamma=\"auto\")\n",
    "svm_clf.fit(X_train_scaled[:10000],y_train[:10000])\n",
    "\n",
    "y_pred=svm_clf.predict(X_train_scaled)\n",
    "accuracy_score(y_train,y_pred)\n",
    "\n",
    "from sklearn.model_selection import RandomizedSearchCV\n",
    "from scipy.stats import reciprocal, uniform\n",
    "\n",
    "param_dict={\"gamma\": reciprocal(0.001,0.1),\"C\":uniform(1,10)}\n",
    "rnd_search_cv=RandomizedSearchCV(svm_clf,param_dict,n_iter=10,cv=3,verbose=2)\n",
    "rnd_search_cv.fit(X_train_scaled[:1000],y_train[:1000])\n",
    "\n",
    "rnd_search_cv.best_estimator_\n",
    "rnd_search_cv.best_score_\n",
    "\n",
    "rnd_search_cv.best_estimator_.fit(X_train_scaled,y_train)\n",
    "\n",
    "y_pred=rnd_search_cv.best_estimator_.predict(X_train_scaled)\n",
    "from sklearn.metrics import accuracy_score\n",
    "accuracy_score(y_pred,y_train)\n",
    "\n",
    "y_pred=rnd_search_cv.best_estimator_.predict(X_test_scaled)\n",
    "accuracy_score(y_pred,y_test)\n"
   ]
  },
  {
   "cell_type": "code",
   "execution_count": null,
   "metadata": {},
   "outputs": [],
   "source": []
  }
 ],
 "metadata": {
  "kernelspec": {
   "display_name": "Python 3",
   "language": "python",
   "name": "python3"
  },
  "language_info": {
   "codemirror_mode": {
    "name": "ipython",
    "version": 3
   },
   "file_extension": ".py",
   "mimetype": "text/x-python",
   "name": "python",
   "nbconvert_exporter": "python",
   "pygments_lexer": "ipython3",
   "version": "3.7.7"
  }
 },
 "nbformat": 4,
 "nbformat_minor": 4
}
